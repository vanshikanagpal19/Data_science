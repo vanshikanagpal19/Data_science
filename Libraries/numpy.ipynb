{
 "cells": [
  {
   "cell_type": "code",
   "execution_count": 6,
   "id": "d71d1d03",
   "metadata": {},
   "outputs": [],
   "source": [
    "#check numpy version\n",
    "#numpy = numerical python\n",
    "#numpy is used to deal with arrays, array is 50 times faster than list but it consistss same data types\n",
    "#Arrays : 1D(single list), 2D(matrix form : shape should be mantained) \n",
    "import numpy as np\n",
    "#np.__versio"
   ]
  },
  {
   "cell_type": "code",
   "execution_count": null,
   "id": "66fb5022",
   "metadata": {},
   "outputs": [
    {
     "name": "stdout",
     "output_type": "stream",
     "text": [
      "[1 2 3 4 5]\n"
     ]
    },
    {
     "data": {
      "text/plain": [
       "' \\n\\n'"
      ]
     },
     "execution_count": 15,
     "metadata": {},
     "output_type": "execute_result"
    }
   ],
   "source": [
    "#convert list into array\n",
    "lst = [1,2,3,4,5]\n",
    "ar1 = np.array(lst)    #.array():converts list into array\n",
    "ar1\n",
    "print(ar1)\n",
    "#print(type(ar1))     #array is in n-dimensions\n"
   ]
  },
  {
   "cell_type": "code",
   "execution_count": 17,
   "id": "afe761a2",
   "metadata": {},
   "outputs": [
    {
     "data": {
      "text/plain": [
       "array(['1', '2', '3', '4', '5'], dtype='<U21')"
      ]
     },
     "execution_count": 17,
     "metadata": {},
     "output_type": "execute_result"
    }
   ],
   "source": [
    "#if different data type\n",
    "lst = [1,2,3,'4',5]    \n",
    "ar1 = np.array(lst)   \n",
    "ar1"
   ]
  },
  {
   "cell_type": "code",
   "execution_count": 21,
   "id": "fd052a25",
   "metadata": {},
   "outputs": [
    {
     "data": {
      "text/plain": [
       "array([ 1,  2,  3,  4,  5,  6,  7,  8,  9, 10, 11, 12, 13, 14, 15, 16, 17,\n",
       "       18, 19])"
      ]
     },
     "execution_count": 21,
     "metadata": {},
     "output_type": "execute_result"
    }
   ],
   "source": [
    "#range mei array banani hai\n",
    "import numpy as np\n",
    "ar2 = np.arange(1,20)   #isse float nhi ata\n",
    "ar2\n",
    "\n"
   ]
  },
  {
   "cell_type": "code",
   "execution_count": 24,
   "id": "ec368766",
   "metadata": {},
   "outputs": [
    {
     "data": {
      "text/plain": [
       "array([ 1.  ,  5.75, 10.5 , 15.25, 20.  ])"
      ]
     },
     "execution_count": 24,
     "metadata": {},
     "output_type": "execute_result"
    }
   ],
   "source": [
    "#by using np.linspace : fixed number of points \n",
    "import numpy as np\n",
    "ar3 = np.linspace(1,20,5)   #isse 1-20 ke bich 5 woh values milengi jinme equal gap hai\n",
    "ar3\n"
   ]
  },
  {
   "cell_type": "code",
   "execution_count": 29,
   "id": "21e7ceff",
   "metadata": {},
   "outputs": [
    {
     "data": {
      "text/plain": [
       "array([0., 0., 0., 0., 0.])"
      ]
     },
     "execution_count": 29,
     "metadata": {},
     "output_type": "execute_result"
    }
   ],
   "source": [
    "#array jisme sara elements 1 ya 0 ho\n",
    "ar4 = np.ones(5)   #1 dalne e liye\n",
    "ar4\n",
    "\n",
    "ar5 = np.zeros(5)  #o dalne ke liye har element ke liye\n",
    "ar5"
   ]
  },
  {
   "cell_type": "code",
   "execution_count": 32,
   "id": "564ebb1b",
   "metadata": {},
   "outputs": [
    {
     "data": {
      "text/plain": [
       "array([[0., 0., 0.],\n",
       "       [0., 0., 0.]])"
      ]
     },
     "execution_count": 32,
     "metadata": {},
     "output_type": "execute_result"
    }
   ],
   "source": [
    "#2 d array with 0's or 1's\n",
    "ar6 = np.zeros((2,3))  #for 2D : ((rows,columns))\n",
    "ar6"
   ]
  },
  {
   "cell_type": "code",
   "execution_count": 38,
   "id": "47cd7469",
   "metadata": {},
   "outputs": [
    {
     "data": {
      "text/plain": [
       "array([[ 1,  2,  3,  4,  5,  6],\n",
       "       [ 7,  8,  9, 10, 11, 12]])"
      ]
     },
     "execution_count": 38,
     "metadata": {},
     "output_type": "execute_result"
    }
   ],
   "source": [
    "#arr.reshape: for conversion of 1D array to 2D array-----idhr arr. mtlb array ka naam\n",
    "ar7 = np.arange(1,13)         #rows * cols == total elements\n",
    "ar7_2D = ar7.reshape(2,6)     #rows columns ke jagah agar -1 likh de toh by default woh 1Darray de dega orserf single value p error dega\n",
    "ar7_2D"
   ]
  },
  {
   "cell_type": "code",
   "execution_count": null,
   "id": "97b70509",
   "metadata": {},
   "outputs": [
    {
     "data": {
      "text/plain": [
       "array([61, 21, 95, 45, 25, 95, 40,  5, 40, 22], dtype=int32)"
      ]
     },
     "execution_count": 44,
     "metadata": {},
     "output_type": "execute_result"
    }
   ],
   "source": [
    "#Creating array from random numbers\n",
    "ar8 = np.random.randint(1,100,10) \n",
    "ar8 \n",
    "ar9 = np.random.random(10)  #ye randint jaisa hai bs float mein values dega, bs ye 1 hi attribute dega\n",
    "ar9\n"
   ]
  },
  {
   "cell_type": "code",
   "execution_count": 49,
   "id": "5288cef8",
   "metadata": {},
   "outputs": [
    {
     "data": {
      "text/plain": [
       "array([[20, 21, 22, 23, 24, 25, 26, 27, 28, 29],\n",
       "       [30, 31, 32, 33, 34, 35, 36, 37, 38, 39],\n",
       "       [40, 41, 42, 43, 44, 45, 46, 47, 48, 49],\n",
       "       [50, 51, 52, 53, 54, 55, 56, 57, 58, 59],\n",
       "       [60, 61, 62, 63, 64, 65, 66, 67, 68, 69],\n",
       "       [70, 71, 72, 73, 74, 75, 76, 77, 78, 79]])"
      ]
     },
     "execution_count": 49,
     "metadata": {},
     "output_type": "execute_result"
    }
   ],
   "source": [
    "ar10= np.arange(20,80)\n",
    "ar10_2D = ar10.reshape(6,10)\n",
    "ar10_2D"
   ]
  },
  {
   "cell_type": "code",
   "execution_count": 57,
   "id": "49b90786",
   "metadata": {},
   "outputs": [
    {
     "data": {
      "text/plain": [
       "array([[72, 60, 26, 67, 56, 41, 62, 20, 36, 65],\n",
       "       [52, 20, 64, 48, 68, 31, 72, 74, 69, 76],\n",
       "       [69, 28, 32, 54, 78, 42, 52, 21, 48, 48],\n",
       "       [61, 49, 25, 49, 56, 79, 21, 45, 40, 70],\n",
       "       [34, 62, 30, 66, 50, 58, 23, 60, 38, 79],\n",
       "       [36, 57, 56, 56, 26, 53, 51, 41, 21, 41]], dtype=int32)"
      ]
     },
     "execution_count": 57,
     "metadata": {},
     "output_type": "execute_result"
    }
   ],
   "source": [
    "ar11 = np.random.randint(20,80,60)\n",
    "ar11_2D = ar11.reshape(6,10)\n",
    "ar11_2D"
   ]
  },
  {
   "cell_type": "code",
   "execution_count": 59,
   "id": "a01b21fa",
   "metadata": {},
   "outputs": [
    {
     "data": {
      "text/plain": [
       "'\\narr.shape :\\narr.datatype :\\narr.size :\\narr.ndin :\\n\\n'"
      ]
     },
     "execution_count": 59,
     "metadata": {},
     "output_type": "execute_result"
    }
   ],
   "source": [
    "'''\n",
    "arr.shape :\n",
    "arr.datatype :\n",
    "arr.size :\n",
    "arr.ndin :\n",
    "\n",
    "'''"
   ]
  },
  {
   "cell_type": "code",
   "execution_count": 64,
   "id": "2712217f",
   "metadata": {},
   "outputs": [
    {
     "data": {
      "text/plain": [
       "array([29, 45, 55, 52, 76, 47, 43, 29, 22, 34, 34, 62, 49, 28, 29, 45, 52,\n",
       "       42, 32, 22, 60, 60, 51, 79, 20, 45, 32, 25, 65, 20, 77, 65, 46, 52,\n",
       "       73, 72, 34, 69, 71, 69, 35, 77, 59, 64, 74, 29, 70, 35, 71, 76, 34,\n",
       "       65, 55, 38, 24, 50, 54, 78, 21, 52], dtype=int32)"
      ]
     },
     "execution_count": 64,
     "metadata": {},
     "output_type": "execute_result"
    }
   ],
   "source": [
    "#conversion of 2D array into 1\n",
    "ar12 = np.random.randint(20,80,60)\n",
    "ar12_2D = ar11.reshape(6,10)\n",
    "ar12_2D.ravel()\n",
    "#arr11_2D.flatten()                 #.ravel(), .flatten() both are same"
   ]
  },
  {
   "cell_type": "code",
   "execution_count": null,
   "id": "12a8172b",
   "metadata": {},
   "outputs": [
    {
     "data": {
      "text/plain": [
       "(10, 6)"
      ]
     },
     "execution_count": 67,
     "metadata": {},
     "output_type": "execute_result"
    }
   ],
   "source": [
    "#for transpose for array : use .T.shape()\n",
    "ar13 = np.random.randint(20,80,60)\n",
    "ar13_2D = ar13.reshape(6,10)\n",
    "ar13_t = ar13_2D.T.shape\n",
    "ar13_t"
   ]
  },
  {
   "cell_type": "code",
   "execution_count": 74,
   "id": "f84e8d2e",
   "metadata": {},
   "outputs": [
    {
     "data": {
      "text/plain": [
       "array([ 3,  4,  5, 15])"
      ]
     },
     "execution_count": 74,
     "metadata": {},
     "output_type": "execute_result"
    }
   ],
   "source": [
    "#Indexing and Slicing\n",
    "\n",
    "#for 1D: same like list\n",
    "lst2 = [1,2,3,4,5,6,7,8,9]\n",
    "ar14\n",
    "ar14[5] = 15\n",
    "ar14\n",
    "ar14[2:6]    #for slicing use [a:b],where a and b are range\n",
    "            \n"
   ]
  },
  {
   "cell_type": "code",
   "execution_count": 89,
   "id": "9dcff5e0",
   "metadata": {},
   "outputs": [
    {
     "name": "stdout",
     "output_type": "stream",
     "text": [
      "100\n"
     ]
    }
   ],
   "source": [
    "#Indexing and Slicing\n",
    "\n",
    "#for 2D array\n",
    "# (row start point:rowend:rowskip,colstart:colend:colskip)\n",
    "ar14 = np.random.randint(20,80,60)\n",
    "ar14_2D = ar13.reshape(6,10)\n",
    "print(ar14_2D[1:3,2:3][0][0])\n",
    "\n",
    "#print(ar14_2D)\n",
    "\n"
   ]
  },
  {
   "cell_type": "code",
   "execution_count": null,
   "id": "e2c877b7",
   "metadata": {},
   "outputs": [
    {
     "name": "stdout",
     "output_type": "stream",
     "text": [
      "[[53 24 77 32 65 63 48 55 25 47]\n",
      " [70 22 38 70 58 77 66 49 31 54]\n",
      " [71 73 47 29 68 23 39 51 55 31]\n",
      " [70 47 75 50 71 25 34 65 52 49]\n",
      " [29 30 40 61 43 39 25 73 32 53]\n",
      " [55 27 66 58 60 62 28 41 50 39]]\n"
     ]
    }
   ],
   "source": [
    "#Reverse of Rows\n",
    "ar15 = np.random.randint(20,80,60)\n",
    "ar15_2D = ar15.reshape(6,10)\n",
    "revers_ar15_2D = ar15_2D[::-1,::-1] # reverse of both rows and columns\n",
    "revers_ar15_2D = ar15_2D[::-1]      #reverse of rows\n",
    "revers_ar15_2D = ar15_2D[:,::-1]    #reverse of columns\n",
    "print(revers_ar15_2D)"
   ]
  },
  {
   "cell_type": "code",
   "execution_count": 103,
   "id": "13787347",
   "metadata": {},
   "outputs": [
    {
     "name": "stdout",
     "output_type": "stream",
     "text": [
      "[[[67 34 55  8 52]\n",
      "  [68 37 44  6 22]\n",
      "  [ 3  1 54 32 37]\n",
      "  [21  4 15 20 55]\n",
      "  [24 41 49  9 51]]\n",
      "\n",
      " [[40 15 29 30 62]\n",
      "  [58 31 61 56 42]\n",
      "  [20 26 28 14 63]\n",
      "  [ 1 13 69 22 44]\n",
      "  [62 55 16 10  9]]]\n"
     ]
    }
   ],
   "source": [
    "#3 array: [2,2,3]-----2 row or 3 columns ki matrix 2 block mein hai mtlb aisi 2 matrix hai\n",
    "a = np.random.randint(1,70,50).reshape(2,5,5)\n",
    "print(a)"
   ]
  },
  {
   "cell_type": "code",
   "execution_count": 112,
   "id": "a9edc94f",
   "metadata": {},
   "outputs": [
    {
     "name": "stdout",
     "output_type": "stream",
     "text": [
      "[[[ 4  9]]\n",
      "\n",
      " [[34 35]]]\n"
     ]
    }
   ],
   "source": [
    "#slicing in 3Daray  synatx:\n",
    "# [table start:table end:table skip,row start:row end:row skip,col start:col end:col skip]\n",
    "b = np.random.randint(1,70,50).reshape(5,2,5)\n",
    "print(b[0:2,0:1,0:2])\n",
    "\n"
   ]
  },
  {
   "cell_type": "code",
   "execution_count": 114,
   "id": "b0e2d911",
   "metadata": {},
   "outputs": [
    {
     "data": {
      "text/plain": [
       "'\\narray mtlb yaha pe array ka naam\\nnp.max(array) : maximum number or array\\nnp.min(array)\\nnp.sum(array)\\nnp.mean(array)\\nnp.median(array)\\nnp.std(array)\\narray.sort : ascending order mei sort kr dega, descending ke liye kuvh nhi(ascending krke indexing reverse krdo\\narray,argsort : sort krta hai pr index ki value deta hai\\n\\n'"
      ]
     },
     "execution_count": 114,
     "metadata": {},
     "output_type": "execute_result"
    }
   ],
   "source": [
    "'''\n",
    "array mtlb yaha pe array ka naam\n",
    "np.max(array) : maximum number or array\n",
    "np.min(array)\n",
    "np.sum(array)\n",
    "np.mean(array)\n",
    "np.median(array)\n",
    "np.std(array)\n",
    "array.sort : ascending order mei sort kr dega, descending ke liye kuvh nhi(ascending krke indexing reverse krdo\n",
    "array,argsort : sort krta hai pr index ki value deta hai\n",
    "\n",
    "'''"
   ]
  },
  {
   "cell_type": "code",
   "execution_count": null,
   "id": "9f2b114f",
   "metadata": {},
   "outputs": [
    {
     "name": "stdout",
     "output_type": "stream",
     "text": [
      "[[79 78 77 76 75 74 73 72 71 70]\n",
      " [69 68 67 66 65 64 63 62 61 60]\n",
      " [59 58 57 56 55 54 53 52 51 50]\n",
      " [49 48 47 46 45 44 43 42 41 40]\n",
      " [39 38 37 36 35 34 33 32 31 30]\n",
      " [29 28 27 26 25 24 23 22 21 20]]\n"
     ]
    }
   ],
   "source": [
    "#sort krke reverse : descending order\n",
    "arc = np.arange(20,80)\n",
    "arc_2D = arc.reshape(6,10)\n",
    "arc_2D.sort()\n",
    "rev_a = arc_2D[::-1,::-1]\n",
    "print(rev_a)"
   ]
  }
 ],
 "metadata": {
  "kernelspec": {
   "display_name": "Python 3",
   "language": "python",
   "name": "python3"
  },
  "language_info": {
   "codemirror_mode": {
    "name": "ipython",
    "version": 3
   },
   "file_extension": ".py",
   "mimetype": "text/x-python",
   "name": "python",
   "nbconvert_exporter": "python",
   "pygments_lexer": "ipython3",
   "version": "3.13.5"
  }
 },
 "nbformat": 4,
 "nbformat_minor": 5
}
