{
 "cells": [
  {
   "cell_type": "code",
   "execution_count": null,
   "id": "8a9324fb",
   "metadata": {},
   "outputs": [
    {
     "ename": "SyntaxError",
     "evalue": "leading zeros in decimal integer literals are not permitted; use an 0o prefix for octal integers (1905758463.py, line 30)",
     "output_type": "error",
     "traceback": [
      "  \u001b[36mCell\u001b[39m\u001b[36m \u001b[39m\u001b[32mIn[8]\u001b[39m\u001b[32m, line 30\u001b[39m\n\u001b[31m    \u001b[39m\u001b[31mtpl[2]=02/30\u001b[39m\n           ^\n\u001b[31mSyntaxError\u001b[39m\u001b[31m:\u001b[39m leading zeros in decimal integer literals are not permitted; use an 0o prefix for octal integers\n"
     ]
    }
   ],
   "source": [
    "#1.\tHow do lists and tuples differ in terms of mutability and performance? When would you choose one over the other?\n",
    "'''Ans.\n",
    "IN TERMS OF MUTABILITY\n",
    "lists are mutable that means its value can be accessed as well as can changed whereas tuples are immutable that means\n",
    "its values can not be changed or modified,...it remains constant.\n",
    "\n",
    "IN TERMS OF PERFORMANCE\n",
    "Lists are slower due to dynamic nature and requires more memory whereas tuples are faster in performance and also requires less memory\n",
    "\n",
    "BELOW ARE THE EXAMPLES USING LISTS AND TUPLES----\n",
    "'''\n",
    "\n",
    "#list : menu of restaurant\n",
    "lst = [\"Plain Maggie\", \"Masala Maggie\", \"Chesse Maggie\",\"Aloo Sandwich\", \"Cheese Sandwich\",\"Mumbai Sandwich\"]\n",
    "for i in lst:\n",
    "    print(i)\n",
    "print(\"\\n\")    \n",
    "lst[1]=\"Vegetable Maggie\"\n",
    "print(\"HERE IS THE NEW MENU\")\n",
    "for i in lst:\n",
    "    print(i)\n",
    "\n",
    "\n",
    "#tuple  : Debit card credentials\n",
    "tpl = (\"Vanshika Nagpal\",\"9653 5661 7321 8521\",\"05/30\")\n",
    "for i in tpl:\n",
    "    print(i)\n",
    "\n",
    "\n",
    "tpl[2]=02/30 #it will give error as tuple cannot modify values"
   ]
  },
  {
   "cell_type": "code",
   "execution_count": 3,
   "id": "4cee628a",
   "metadata": {},
   "outputs": [
    {
     "name": "stdout",
     "output_type": "stream",
     "text": [
      "5\n",
      "['V', 'a', 'n', 's', 'h', 'i', 'k', 'a']\n"
     ]
    }
   ],
   "source": [
    "#2.\tExplain how Python handles type conversion between different data types, such as between integers and floats or between strings and lists.\n",
    "''' ans.\n",
    "COMMON TYPE CASTING FUNCTIONS :\n",
    "int()------Converts to integer\n",
    "float()-----Converts to float\n",
    "str()--------Converts to string\n",
    "liSt()-------Converts to list\n",
    "tuple()-------Converts to tuple\n",
    "\n",
    "\n",
    "BELOW ARE THE EXAMPLES OF CONVERSION OF DATA TYPES:\n",
    "'''\n",
    "#FLOAT AND INTEGERS\n",
    "x = 5.9\n",
    "y = int(x) \n",
    "print(y)\n",
    "\n",
    "#LIST AND STRING\n",
    "name = \"Vanshika\"\n",
    "chars = list(name)\n",
    "print(chars)\n",
    "\n"
   ]
  },
  {
   "cell_type": "code",
   "execution_count": null,
   "id": "7e80fdd7",
   "metadata": {},
   "outputs": [
    {
     "name": "stdout",
     "output_type": "stream",
     "text": [
      "milk\n",
      "{'Vanshika', 'Ansh', 'Riya'}\n",
      "AI & DS\n"
     ]
    }
   ],
   "source": [
    "#3.\tWhat are the key differences between Python’s `list`, `set`, and `dictionary` data types? Provide examples of \n",
    "# scenarios where each would be the most appropriate choice.\n",
    "''' \n",
    "LIST\n",
    "It is an odered collection of one or more data items, list is mutable,syntax = [],allow duplicates, can be accessed by index\n",
    "\n",
    "SET\n",
    "It is a unordered collection of data types\n",
    "set are mutable\n",
    "duplicates are not allowed\n",
    "Synatx = {}\n",
    "\n",
    "DICTIONARY\n",
    "An unordered collection of data in key:value pair\n",
    "Keys must be unique \n",
    "It is muttable\n",
    "syntax : {key:value}\n",
    "\n",
    "\n",
    "below are the examples\n",
    "'''\n",
    "# list : \n",
    "shopping_cart = [\"milk\", \"bread\", \"eggs\", \"milk\"]\n",
    "print(shopping_cart[0]) \n",
    "\n",
    "#set\n",
    "unique_students = {\"Vanshika\", \"Riya\", \"Ansh\", \"Vanshika\"}\n",
    "print(unique_students)  \n",
    "\n",
    "# dictionary\n",
    "student = {\n",
    "    \"name\": \"Vanshika\",\n",
    "    \"age\": 21,\n",
    "    \"branch\": \"AI & DS\"}\n",
    "print(student[\"branch\"]) \n"
   ]
  },
  {
   "cell_type": "code",
   "execution_count": 6,
   "id": "18fa16ea",
   "metadata": {},
   "outputs": [
    {
     "ename": "NameError",
     "evalue": "name 'doubt' is not defined",
     "output_type": "error",
     "traceback": [
      "\u001b[31m---------------------------------------------------------------------------\u001b[39m",
      "\u001b[31mNameError\u001b[39m                                 Traceback (most recent call last)",
      "\u001b[36mCell\u001b[39m\u001b[36m \u001b[39m\u001b[32mIn[6]\u001b[39m\u001b[32m, line 3\u001b[39m\n\u001b[32m      1\u001b[39m \u001b[38;5;66;03m# 4. 4.\tDiscuss the role of the `__repr__` and `__str__` methods in custom data types. How do they differ, and when should you implement them?\u001b[39;00m\n\u001b[32m----> \u001b[39m\u001b[32m3\u001b[39m \u001b[43mdoubt\u001b[49m\n",
      "\u001b[31mNameError\u001b[39m: name 'doubt' is not defined"
     ]
    }
   ],
   "source": [
    "# 4. 4.\tDiscuss the role of the `__repr__` and `__str__` methods in custom data types. How do they differ, and when should you implement them?\n",
    "\n",
    "doubt"
   ]
  },
  {
   "cell_type": "code",
   "execution_count": 7,
   "id": "dcde38c5",
   "metadata": {},
   "outputs": [
    {
     "name": "stdout",
     "output_type": "stream",
     "text": [
      "9999999999999999999999999999999999999\n"
     ]
    }
   ],
   "source": [
    "#5. 5.\tHow does Python handle large integers? Explain the difference between `int` in Python 2 and Python 3.\n",
    "''' \n",
    "ans.\n",
    " python 2 uses 'int(for fixed size)' and 'long(for larger values) to handle integers\n",
    " python 3 uses only int as it has no limit to the size of integer\n",
    "'''\n",
    "num = 9999999999999999999999999999999999999\n",
    "print(num)\n",
    "\n"
   ]
  },
  {
   "cell_type": "code",
   "execution_count": 14,
   "id": "b2013472",
   "metadata": {},
   "outputs": [
    {
     "name": "stdout",
     "output_type": "stream",
     "text": [
      "15\n",
      "15\n",
      "[1, 2, 3, 4]\n",
      "[1, 2, 3, 4]\n",
      "[1, 2, 3, 4, 3, 4]\n"
     ]
    }
   ],
   "source": [
    "# 6. 6.\t**What is the difference between the `+=` operator and the `+` operator in Python when used with mutable and immutable types?\n",
    "''' \n",
    "+= tries to modify the existing object in place.\n",
    "+ creates a new object by combining values.\n",
    "\n",
    "'''\n",
    "#immutable\n",
    "x = 10\n",
    "y = x + 5     \n",
    "x += 5      #x= x+5   \n",
    "print(y)\n",
    "print(x)\n",
    "\n",
    "#mutable\n",
    "l = [1, 2]\n",
    "l2 = l\n",
    "l += [3, 4]\n",
    "print(l)\n",
    "print(l2)\n",
    "l3 = l + [3, 4]\n",
    "print(l3)\n",
    "\n",
    "# l becomes [1, 2, 3, 4] (new object)\n",
    "# l2 is still [1, 2]\n"
   ]
  },
  {
   "cell_type": "code",
   "execution_count": 20,
   "id": "8e05d129",
   "metadata": {},
   "outputs": [
    {
     "name": "stdout",
     "output_type": "stream",
     "text": [
      "v\n",
      "a\n",
      "n\n",
      "s\n",
      "h\n",
      "i\n",
      "k\n",
      "a\n",
      "found\n",
      "vanshika 20\n",
      "Gargi 70\n",
      "kanak 18\n"
     ]
    }
   ],
   "source": [
    "#7. Explain the purpose and use of the `in` operator in Python. How does it behave differently when used with different data types, such as strings, lists, and dictionaries? \n",
    "''' \n",
    "ans.\n",
    "The in operator in Python is used to check if a value exists within a sequence or collection.\n",
    "It returns True if the value is found, otherwise False.\n",
    "  '''\n",
    "#with string\n",
    "s=\"vanshika\"\n",
    "for i in s:\n",
    "    print(i) \n",
    "\n",
    "#list\n",
    "lst=['vanshika','jhanvi','vansh']\n",
    "if \"vanshika\" in lst:\n",
    "    print(\"found\")\n",
    "else:\n",
    "    print(\"not found\")\n",
    "\n",
    "#dictionary\n",
    "d = {\"vanshika\":20,\n",
    "     \"Gargi\":70,\n",
    "    \"kanak\":18,}\n",
    "for i in d:\n",
    "    print(i,d[i])\n"
   ]
  },
  {
   "cell_type": "code",
   "execution_count": 29,
   "id": "7e975559",
   "metadata": {},
   "outputs": [
    {
     "name": "stdout",
     "output_type": "stream",
     "text": [
      "5\n",
      "7\n",
      "2\n",
      "-6\n",
      "10\n",
      "2\n"
     ]
    }
   ],
   "source": [
    "#8. How do the bitwise operators (`&`, `|`, `^`, `~`, `<<`, `>>`) work in Python? Provide examples of their usage.\n",
    "''' \n",
    "Bitwise operators in Python perform operations on the binary representations of integers\n",
    "\n",
    "'''\n",
    "#&\n",
    "a = 5\n",
    "b = 7\n",
    "print(a&b)   #and\n",
    "print(a|b)   #OR\n",
    "print(a^b)   #Xor\n",
    "print(~a)    #NOT\n",
    "print(a<<1)  #left shift\n",
    "print(a>>1)  #right shift  \n",
    "\n"
   ]
  },
  {
   "cell_type": "code",
   "execution_count": 32,
   "id": "4098ae8b",
   "metadata": {},
   "outputs": [
    {
     "name": "stdout",
     "output_type": "stream",
     "text": [
      "11\n",
      "1\n",
      "30\n"
     ]
    }
   ],
   "source": [
    "#9. 9.\tWhat are augmented assignment operators, and how do they work in Python? Give examples with `+=`, `-=`, and `*=`.\n",
    "''' \n",
    "ans.\n",
    "Augmented assignment operators are shortcuts in Python that combine an arithmetic operation with assignment.\n",
    "''' \n",
    "x=6\n",
    "x+=5\n",
    "print(x)\n",
    "\n",
    "x=6\n",
    "x-=5 \n",
    "print(x)\n",
    "\n",
    "x=6\n",
    "x*=5\n",
    "print(x)\n"
   ]
  },
  {
   "cell_type": "code",
   "execution_count": 36,
   "id": "a0f45bdf",
   "metadata": {},
   "outputs": [
    {
     "ename": "SyntaxError",
     "evalue": "invalid syntax (952545846.py, line 20)",
     "output_type": "error",
     "traceback": [
      "  \u001b[36mCell\u001b[39m\u001b[36m \u001b[39m\u001b[32mIn[36]\u001b[39m\u001b[32m, line 20\u001b[39m\n\u001b[31m    \u001b[39m\u001b[31mif x it y:               #is mein doubt hai\u001b[39m\n         ^\n\u001b[31mSyntaxError\u001b[39m\u001b[31m:\u001b[39m invalid syntax\n"
     ]
    }
   ],
   "source": [
    "#10.10.\tHow does Python’s `is` operator differ from `==`, especially in terms of comparing lists, strings, and other complex data types?\n",
    "''' \n",
    "ans. \n",
    "== (Equality Operator):\n",
    "Checks if two variables have the same value, even if they are different objects.\n",
    "\n",
    "is (Identity Operator) :\n",
    "Checks if two variables point to the same object in memory.\n",
    "\n",
    ".'''\n",
    "#string\n",
    "\n",
    "x=\"vanshika\"\n",
    "y=\"satyam\"\n",
    "if x==y:\n",
    "    print(\"true\")\n",
    "else:\n",
    "    print(\"false\")\n",
    "\n",
    "if x it y:               #is mein doubt hai\n",
    "    print(\"true\")\n",
    "else:\n",
    "    print(\"false\")"
   ]
  }
 ],
 "metadata": {
  "kernelspec": {
   "display_name": "Python 3",
   "language": "python",
   "name": "python3"
  },
  "language_info": {
   "codemirror_mode": {
    "name": "ipython",
    "version": 3
   },
   "file_extension": ".py",
   "mimetype": "text/x-python",
   "name": "python",
   "nbconvert_exporter": "python",
   "pygments_lexer": "ipython3",
   "version": "3.12.10"
  }
 },
 "nbformat": 4,
 "nbformat_minor": 5
}
