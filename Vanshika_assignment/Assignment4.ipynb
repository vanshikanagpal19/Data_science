{
 "cells": [
  {
   "cell_type": "code",
   "execution_count": 19,
   "id": "6fa29814",
   "metadata": {},
   "outputs": [
    {
     "data": {
      "text/plain": [
       "('hii', 'Vanshika')"
      ]
     },
     "execution_count": 19,
     "metadata": {},
     "output_type": "execute_result"
    }
   ],
   "source": [
    "''' \n",
    "1.  What are default arguments in Python functions, and how do they differ from required arguments? What happens when you pass\n",
    " `None` as a value to a parameter with a default argument? \n",
    "ANS.\n",
    "DEFAULT ARGUMENTS : Agar function call karte waqt koi value na di jaye, toh default value use hoti hai\n",
    "REQUIRED ARGUMENTS : Agar HUM required argument chhod doge, toh error aayega.\n",
    "\n",
    "\n",
    "Coding Challenge: Write a function `greet` that takes a name as a required argument and a greeting message as an optional argument.\n",
    " If no greeting is provided, it should default to \"Hello\".\n",
    "'''\n",
    "def greet(name,greet_messg=\"Hello\"):\n",
    "    return greet_messg , name\n",
    "\n",
    "greet('gargi')\n",
    "greet('Vanshika','hii')\n",
    "\n"
   ]
  },
  {
   "cell_type": "code",
   "execution_count": 28,
   "id": "ca8b75c2",
   "metadata": {},
   "outputs": [
    {
     "name": "stdout",
     "output_type": "stream",
     "text": [
      "121\n"
     ]
    }
   ],
   "source": [
    "''' \n",
    "2.  Explain the concept of variable-length arguments in Python. \n",
    "How do `*args` and ` kwargs` work, and how can they be used together in a function? \n",
    "ANS.\n",
    "VARIABLE - LENGTH ARGUMENTS : Kabhi-kabhi hume nahi pata hota ki function me kitne arguments aayenge.\n",
    "                              Python me hum aise cases me 'args' aur 'kwargs' ka use karte hain.\n",
    "\n",
    "ARGS - Ye arguments ko tuple ke form me accept karta hai.\n",
    "       Jab hum *args likhte hain, toh function me multiple values aayi toh bhi error nahi aayega.\n",
    "\n",
    "KWARGS - Ye arguments ko dictionary ke form me accept karta hai.\n",
    "         ab function me key=value format me data bhejna ho, tab use hota hai.\n",
    "\n",
    "USED TOGETHER:\n",
    "def function_name(arg1, *args, **kwargs):\n",
    "\n",
    "\n",
    "Coding Challenge: Write a function `summarize` that takes any number of numerical arguments and returns their sum. \n",
    "The function should also accept optional keyword arguments that specify whether the result should be squared or negated.\n",
    "'''\n",
    "def summarize(*args,square=False,negate=False):\n",
    "    result = sum(args)\n",
    "    if square:\n",
    "        result = result**2\n",
    "    elif negate:\n",
    "        result = -result\n",
    "    return result\n",
    "print(summarize(2,3,6,square=True))\n",
    "    \n",
    "\n"
   ]
  },
  {
   "cell_type": "code",
   "execution_count": 36,
   "id": "dc9a6959",
   "metadata": {},
   "outputs": [
    {
     "data": {
      "text/plain": [
       "[1, 2, 3, 4, 7]"
      ]
     },
     "execution_count": 36,
     "metadata": {},
     "output_type": "execute_result"
    }
   ],
   "source": [
    "''' \n",
    "3.  What is the difference between pass-by-value and pass-by-reference? How does Python handle argument passing in functions? \n",
    "ANS.\n",
    "PASS BY VALUE: Function ko value ka copy diya jaata hai, Original variable change nahi hota.\n",
    "PASS BY REFERENCE: Function ko original reference (address) diya jaata hai, Function ke andar changes directly original variable ko \n",
    "                   affect karte hain.\n",
    "\n",
    "Coding Challenge: Write a function that takes a list as an argument and modifies it by appending a new item.\n",
    "                  Demonstrate how changes to the list inside the function affect the list outside the function.\n",
    "'''\n",
    "def function(lst,app):\n",
    "    lst.append(app)\n",
    "    return lst\n",
    "function([1,2,3,4],7)\n",
    "\n"
   ]
  },
  {
   "cell_type": "code",
   "execution_count": null,
   "id": "d24b1bf2",
   "metadata": {},
   "outputs": [
    {
     "ename": "SyntaxError",
     "evalue": "incomplete input (3233667549.py, line 1)",
     "output_type": "error",
     "traceback": [
      "  \u001b[36mCell\u001b[39m\u001b[36m \u001b[39m\u001b[32mIn[38]\u001b[39m\u001b[32m, line 1\u001b[39m\n\u001b[31m    \u001b[39m\u001b[31m'''\u001b[39m\n    ^\n\u001b[31mSyntaxError\u001b[39m\u001b[31m:\u001b[39m incomplete input\n"
     ]
    }
   ],
   "source": [
    "''' \n",
    "4.  How do decorators work in Python? Explain with an example of a simple decorator that logs the execution time of a function\n",
    "ANS.\n",
    "DECORATORS : Decorator ek function hota hai jo dusre function ko enhance karta hai bina uska original code change kiye.\n",
    "            Ye mostly tab use hota hai jab hume kisi function ke execution ke pehle ya baad kuch extra kaam karna ho — jaise logging, timing, etc.\n",
    "            Python me decorators ko @ symbol se lagaya jaata hai\n",
    "\n",
    "\n",
    "\n",
    "doubt"
   ]
  },
  {
   "cell_type": "code",
   "execution_count": 39,
   "id": "f4ad2b78",
   "metadata": {},
   "outputs": [
    {
     "data": {
      "text/plain": [
       "' \\n\\n\\n\\n\\n'"
      ]
     },
     "execution_count": 39,
     "metadata": {},
     "output_type": "execute_result"
    }
   ],
   "source": [
    "''' \n",
    "\n",
    "\n",
    "\n",
    "\n",
    "'''"
   ]
  },
  {
   "cell_type": "code",
   "execution_count": 41,
   "id": "3eae79e4",
   "metadata": {},
   "outputs": [
    {
     "name": "stdout",
     "output_type": "stream",
     "text": [
      "15\n"
     ]
    },
    {
     "ename": "TypeError",
     "evalue": "map() takes no keyword arguments",
     "output_type": "error",
     "traceback": [
      "\u001b[31m---------------------------------------------------------------------------\u001b[39m",
      "\u001b[31mTypeError\u001b[39m                                 Traceback (most recent call last)",
      "\u001b[36mCell\u001b[39m\u001b[36m \u001b[39m\u001b[32mIn[41]\u001b[39m\u001b[32m, line 20\u001b[39m\n\u001b[32m     17\u001b[39m \u001b[38;5;28mprint\u001b[39m(x(a,b))\n\u001b[32m     19\u001b[39m \u001b[38;5;66;03m#map() with lambda:\u001b[39;00m\n\u001b[32m---> \u001b[39m\u001b[32m20\u001b[39m result_map = \u001b[38;5;28mlist\u001b[39m(\u001b[38;5;28;43mmap\u001b[39;49m\u001b[43m(\u001b[49m\u001b[43mx\u001b[49m\u001b[43m=\u001b[49m\u001b[38;5;28;43;01mlambda\u001b[39;49;00m\u001b[43m \u001b[49m\u001b[43ma\u001b[49m\u001b[43m,\u001b[49m\u001b[43mb\u001b[49m\u001b[43m:\u001b[49m\u001b[43ma\u001b[49m\u001b[43m+\u001b[49m\u001b[43mb\u001b[49m\u001b[43m)\u001b[49m)\n",
      "\u001b[31mTypeError\u001b[39m: map() takes no keyword arguments"
     ]
    }
   ],
   "source": [
    "''' \n",
    "10.How can lambda functions be used with Python's built-in functions like `map()`, `filter()`, and `reduce()`? Provide examples of each. \n",
    "ANS.\n",
    "LAMBDA :  used to write single line code\n",
    "map() with lambda : Har item pe operation lagata hai\n",
    "filter() :ek built-in function hai jo list ke har element pe ek function lagata hai aur sirf unhi elements\n",
    "          ko return karta hai jinke liye condition True hoti hai\n",
    "rduce() : Jo 2 values leke unko reduce (combine) karta hai. \n",
    "\n",
    "\n",
    "BELOW IS THE EXAMPLE OF EACH:\n",
    "'''\n",
    "#LAMBDA\n",
    "a=5\n",
    "b=10\n",
    "x=lambda a,b:a+b\n",
    "print(x(a,b))\n",
    "\n",
    "#map() with lambda:\n",
    "result_map = list(map(x=lambda a,b:a+b))\n",
    "\n",
    "\n",
    "\n"
   ]
  }
 ],
 "metadata": {
  "kernelspec": {
   "display_name": "Python 3",
   "language": "python",
   "name": "python3"
  },
  "language_info": {
   "codemirror_mode": {
    "name": "ipython",
    "version": 3
   },
   "file_extension": ".py",
   "mimetype": "text/x-python",
   "name": "python",
   "nbconvert_exporter": "python",
   "pygments_lexer": "ipython3",
   "version": "3.12.10"
  }
 },
 "nbformat": 4,
 "nbformat_minor": 5
}
