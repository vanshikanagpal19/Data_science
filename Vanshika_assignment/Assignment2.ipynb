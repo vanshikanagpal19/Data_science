{
 "cells": [
  {
   "cell_type": "code",
   "execution_count": 7,
   "id": "2dcf73ea",
   "metadata": {},
   "outputs": [
    {
     "name": "stdout",
     "output_type": "stream",
     "text": [
      "You got grade A\n",
      "GIVEN NUMBER IS POSITIVE\n",
      "GIVEN NUMBER IS NEGATIVE\n"
     ]
    }
   ],
   "source": [
    "#Provide an example where multiple conditions must be checked and explain the flow of control.\n",
    "marks = 80\n",
    "if marks>90:\n",
    "    print(\"You got grade A+\")\n",
    "elif marks>=80:\n",
    "    print(\"You got grade A\")\n",
    "elif marks>=70:\n",
    "    print(\"You got grade B+\")\n",
    "elif marks>=60:\n",
    "    print(\"You got grade B\")\n",
    "else:\n",
    "    print(\"Sorry you got failed,....Try Next Time\")\n",
    "\n",
    "\n",
    "#Coding Challenge:Write a function that takes a number as input and returns \"Positive\", \"Negative\", or \"Zero\" based on the input value.\n",
    "def check(num):\n",
    "    if num>0:\n",
    "        return \"GIVEN NUMBER IS POSITIVE\"\n",
    "    elif num<0:\n",
    "        return \"GIVEN NUMBER IS NEGATIVE\"\n",
    "    else:\n",
    "        return \"GIVEN NUMBER IS ZERO\"\n",
    "\n",
    "print(check(85))\n",
    "print(check(-24))"
   ]
  },
  {
   "cell_type": "code",
   "execution_count": 17,
   "id": "aad50e6b",
   "metadata": {},
   "outputs": [
    {
     "name": "stdout",
     "output_type": "stream",
     "text": [
      "2 3 5 7 11 13 17 19 23 29 31 37 41 43 47 53 59 61 67 71 73 79 83 89 97 "
     ]
    }
   ],
   "source": [
    "#2.What is the difference between `for` loops and `while` loops in terms of conditional checks? When would you prefer one over the other? \n",
    "''' \n",
    "ans.\n",
    "FOR: \n",
    "Automatically checks how many items are in an iterable (like list, string, range).\n",
    "Runs for each item.\n",
    "\n",
    "WHILE:\n",
    "Checks a condition manually before each iteration.\n",
    "You have to update the variable inside the loop, or it may become infinite.\n",
    "\n",
    "\n",
    "'''\n",
    "#Coding Challenge:  Write a Python script to print all prime numbers between 1 and 100 using a `for` loop.\n",
    "for num in range(1,101):\n",
    "    count = 0 \n",
    "    if num>1:\n",
    "        for i in range(1,num+1):\n",
    "            if num%i==0:\n",
    "                count+=1\n",
    "        if count==2:\n",
    "            print(num, end=\" \")"
   ]
  },
  {
   "cell_type": "code",
   "execution_count": null,
   "id": "e29ba4b5",
   "metadata": {},
   "outputs": [
    {
     "name": "stdout",
     "output_type": "stream",
     "text": [
      "9 IS LARGEST\n"
     ]
    }
   ],
   "source": [
    "#3.Explain how nested `if` statements work in Python. How can you avoid deep nesting to make your code more readable? \n",
    "''' \n",
    "ans.\n",
    "Nested if means an if statement inside another if block.\n",
    "It allows you to test multiple conditions in a step-by-step, dependent manner\n",
    "\n",
    "Problem with Deep Nesting:\n",
    "When you nest too many if statements, the code becomes hard to read and difficult to maintain.\n",
    "\n",
    "How to Avoid Deep Nesting:\n",
    "1. Use logical operators (and, or)\n",
    "2. Use return or break early (for functions or loops)\n",
    "3. Use elif and else properly\n",
    "'''\n",
    "\n",
    "#Coding Challenge:  Write a function that takes three numbers as input and returns the largest of the three using nested `if` statements.\n",
    "\n",
    "def num_check(a,b,c):\n",
    "    if a>b:\n",
    "        if a>c:\n",
    "           print(a, \"IS LARGEST\")\n",
    "        elif c>a:\n",
    "            print(c, \"IS LARGEST\")\n",
    "    if b>a:\n",
    "        if b>c:\n",
    "             print(b, \"IS LARGEST\")\n",
    "    return\n",
    "\n",
    "num_check(7,4,9)\n",
    "\n",
    "        \n",
    "\n",
    "\n",
    "\n",
    "\n",
    "\n"
   ]
  },
  {
   "cell_type": "code",
   "execution_count": 31,
   "id": "d18e3e3b",
   "metadata": {},
   "outputs": [
    {
     "name": "stdout",
     "output_type": "stream",
     "text": [
      "3\n",
      "8\n",
      "15\n",
      "49\n",
      "138\n"
     ]
    }
   ],
   "source": [
    "#4.What are the potential risks of using `break` in loops? How does it affect loop execution and what alternatives can you use? \n",
    "''' \n",
    "ans. \n",
    "BREAK : The break statement is used to exit a loop immediately\n",
    "POTENTIAL RISK : overusing can reduce clarity\n",
    "AFFECTS : As soon as break is encountered, the loop stops completely, and control moves to the next line after the loop.\n",
    "ALTERNATIVES : use else \n",
    "'''\n",
    "#Coding Challenge:  Write a Python program that reads numbers from the user until they input a negative number. \n",
    "                  # The program should then print the sum of all positive numbers entered.\n",
    "\n",
    "a = [3,5,7,34,89,-20,39,9.-27]\n",
    "sum = 0\n",
    "for j in a:\n",
    "    if j<0:\n",
    "        break\n",
    "    sum+=j\n",
    "    print(sum)\n",
    "\n",
    "\n",
    "\n",
    "\n"
   ]
  },
  {
   "cell_type": "code",
   "execution_count": 41,
   "id": "24718eeb",
   "metadata": {},
   "outputs": [
    {
     "data": {
      "text/plain": [
       "-1"
      ]
     },
     "execution_count": 41,
     "metadata": {},
     "output_type": "execute_result"
    }
   ],
   "source": [
    "#5. How does the `else` clause in a loop work, and how does it differ from the `else` in conditional statements? \n",
    "''' \n",
    "ans.\n",
    "IN CONDITIONAL STATEMENTS: The else block in an if-else statement runs only when the if condition is False.\n",
    "IN A LOOP WORK : else part executes only if the loop completes normally (Runs when loop doesn’t break)\n",
    "'''\n",
    "#-  Coding Challenge:  Write a function that searches for a specific element in a list using a `for` loop. \n",
    "#                      If the element is found, return its index; if not, return -1 using the `else` clause in the loop.\n",
    "\n",
    "def search(el,lst1):\n",
    "    for index in range(len(lst1)):\n",
    "        if lst1[index]==el:\n",
    "            return index\n",
    "    else:\n",
    "        return -1\n",
    "    \n",
    "lst1 =[1,2,3,4,5,6,7]\n",
    "search(15,lst1)\n"
   ]
  },
  {
   "cell_type": "code",
   "execution_count": 45,
   "id": "97bd720f",
   "metadata": {},
   "outputs": [
    {
     "name": "stdout",
     "output_type": "stream",
     "text": [
      "Equal\n"
     ]
    }
   ],
   "source": [
    "''' \n",
    "6.What is a common pitfall when using floating-point numbers in conditional statements? How can you avoid it? \n",
    "ans.\n",
    "PITFALL: Floating-point numbers (like 0.1, 0.2, 0.3) cannot always be represented exactly in binary — the way computers store them.\n",
    "        So when we compare them directly using ==, you might get unexpected results.\n",
    "        eg. x=0.1+0.2\n",
    "            if x==0.3:\n",
    "                print(\"equal\")\n",
    "\n",
    "HOW TO AVOID : 1.By using round()\n",
    "                 x=0.1+0.2\n",
    "                 if round(x,2)==0.3:\n",
    "                    print(\"Equal\") \n",
    "                2.use tolerance\n",
    "                 agar do values bilkul equal na ho kar bhi bohot kareeb hain, toh unhe equal maan lo.\n",
    "                \n",
    "        \n",
    "'''\n",
    "\n",
    "#Coding Challenge:  Write a Python function that compares two floating-point numbers and returns `True` \n",
    "#                   if they are approximately equal, considering a small tolerance value.\n",
    "\n",
    "x = 0.1+0.2\n",
    "if abs(x-0.3)<0.00001:    #abs finds the absolute difference\n",
    "    print(\"Equal\")\n"
   ]
  },
  {
   "cell_type": "code",
   "execution_count": 47,
   "id": "3df34343",
   "metadata": {},
   "outputs": [
    {
     "name": "stdout",
     "output_type": "stream",
     "text": [
      "[2, 4, 6, 8]\n"
     ]
    }
   ],
   "source": [
    "''' \n",
    "7.  How can you combine `for` loops and `if` statements to filter and process data in Python? \n",
    "ans.\n",
    "we can combine for loops (to go through items) with if statements (to check conditions) to\n",
    " filter (select specific data) and process (perform actions on that data).\n",
    "\n",
    "'''\n",
    "#Coding Challenge:  Given a list of integers, write a Python program that uses a `for` loop and `if` statements \n",
    "#                   to create a new list containing only the even numbers.\n",
    "\n",
    "lst=[2,4,5,6,7,8]\n",
    "n_lst = []\n",
    "for l in lst:\n",
    "    if l%2==0:\n",
    "        n_lst.append(l)  #append uses to add elements in list\n",
    "\n",
    "print(n_lst)"
   ]
  },
  {
   "cell_type": "code",
   "execution_count": 48,
   "id": "e28fcd9b",
   "metadata": {},
   "outputs": [
    {
     "ename": "SyntaxError",
     "evalue": "invalid decimal literal (3708944548.py, line 1)",
     "output_type": "error",
     "traceback": [
      "  \u001b[36mCell\u001b[39m\u001b[36m \u001b[39m\u001b[32mIn[48]\u001b[39m\u001b[32m, line 1\u001b[39m\n\u001b[31m    \u001b[39m\u001b[31m8.Discuss the concept of short-circuit evaluation in Python. How does it affect the performance of conditional statements?\u001b[39m\n     ^\n\u001b[31mSyntaxError\u001b[39m\u001b[31m:\u001b[39m invalid decimal literal\n"
     ]
    }
   ],
   "source": [
    "\n",
    "8.Discuss the concept of short-circuit evaluation in Python. How does it affect the performance of conditional statements? \n",
    "ans.\n",
    "#doubt\n"
   ]
  },
  {
   "cell_type": "code",
   "execution_count": 53,
   "id": "5d2838fc",
   "metadata": {},
   "outputs": [
    {
     "name": "stdout",
     "output_type": "stream",
     "text": [
      "3\n",
      "6\n",
      "9\n",
      "18\n",
      "33\n"
     ]
    }
   ],
   "source": [
    "'''\n",
    "9. Explain how the `continue` statement works in a loop. What are some scenarios where using `continue` is\n",
    "     more beneficial than restructuring the loop? \n",
    "ans. \n",
    "CONTINUE: The continue statement is used inside loops (for or while) to skip the current iteration and move to the next one,\n",
    "          without running the remaining code in the loop body for that iteration.\n",
    "BENEFITS: Avoids Unnecessary Nesting\n",
    "          Using continue can make the code cleaner and easier to read by avoiding extra if-else nesting.\n",
    "\n",
    "'''\n",
    "#Coding Challenge:  Write a Python program that iterates through a list of numbers and prints only those numbers that are divisible by 3,\n",
    "#                   using the `continue` statement\n",
    "\n",
    "lst3=[3,6,9,4,18,33,67]\n",
    "for c in lst3:\n",
    "    if c%3!=0:\n",
    "        continue\n",
    "    else:\n",
    "        print(c)\n",
    "\n"
   ]
  },
  {
   "cell_type": "code",
   "execution_count": 54,
   "id": "5ef16e24",
   "metadata": {},
   "outputs": [
    {
     "name": "stdout",
     "output_type": "stream",
     "text": [
      "[4, 16, 36, 64, 100, 144, 196, 256, 324, 400]\n"
     ]
    }
   ],
   "source": [
    "''' \n",
    "10.  How can you use list comprehensions in combination with conditional statements to make your code more concise? \n",
    "ANS.\n",
    "List Comprehension is a compact way to create lists in Python.\n",
    "It combines a for loop and optionally an if condition in a single line.\n",
    "\n",
    "syntax : [expression for item in iterable if condition]\n",
    "\n",
    "'''\n",
    "#Coding Challenge:  Write a list comprehension that generates a list of squares of all even numbers between 1 and 20.\n",
    "\n",
    "square = [r**2 for r in range(1,21) if r%2==0]\n",
    "print(square)"
   ]
  }
 ],
 "metadata": {
  "kernelspec": {
   "display_name": "Python 3",
   "language": "python",
   "name": "python3"
  },
  "language_info": {
   "codemirror_mode": {
    "name": "ipython",
    "version": 3
   },
   "file_extension": ".py",
   "mimetype": "text/x-python",
   "name": "python",
   "nbconvert_exporter": "python",
   "pygments_lexer": "ipython3",
   "version": "3.12.10"
  }
 },
 "nbformat": 4,
 "nbformat_minor": 5
}
