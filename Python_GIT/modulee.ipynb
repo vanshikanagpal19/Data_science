{
 "cells": [
  {
   "cell_type": "code",
   "execution_count": null,
   "id": "bb1eebf3",
   "metadata": {},
   "outputs": [],
   "source": [
    "'''module is a single python file(.py)\n",
    "module-importing other pthon files into current file\n",
    "there are three types of module\n",
    "1. built-in module: os(command prompt ka sara kaam kr sakte h),sys,math,datetime,re\n",
    "2. third party modules: pandas, numpy\n",
    "3. userdefined modules: jo me banaungi\n",
    "'''"
   ]
  },
  {
   "cell_type": "code",
   "execution_count": 3,
   "id": "97863249",
   "metadata": {},
   "outputs": [
    {
     "name": "stdout",
     "output_type": "stream",
     "text": [
      "3\n"
     ]
    }
   ],
   "source": [
    "#from functools import reduce\n",
    "from Addition import addfunction\n",
    "x=addfunction(1,2)\n",
    "print(x)"
   ]
  },
  {
   "cell_type": "code",
   "execution_count": null,
   "id": "88789049",
   "metadata": {},
   "outputs": [],
   "source": []
  }
 ],
 "metadata": {
  "kernelspec": {
   "display_name": "Python 3",
   "language": "python",
   "name": "python3"
  },
  "language_info": {
   "codemirror_mode": {
    "name": "ipython",
    "version": 3
   },
   "file_extension": ".py",
   "mimetype": "text/x-python",
   "name": "python",
   "nbconvert_exporter": "python",
   "pygments_lexer": "ipython3",
   "version": "3.11.1"
  }
 },
 "nbformat": 4,
 "nbformat_minor": 5
}
