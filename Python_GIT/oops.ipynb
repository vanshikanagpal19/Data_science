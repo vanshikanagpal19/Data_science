{
 "cells": [
  {
   "cell_type": "code",
   "execution_count": null,
   "id": "5db5f00b",
   "metadata": {},
   "outputs": [],
   "source": [
    "'''\n",
    "1. Inheritance\n",
    "2. polymorphism\n",
    "3. encapsulation\n",
    "class: bluepront of an object\n",
    "object: instance of a class\n",
    "'''"
   ]
  },
  {
   "cell_type": "code",
   "execution_count": 2,
   "id": "f0f6920c",
   "metadata": {},
   "outputs": [
    {
     "name": "stdout",
     "output_type": "stream",
     "text": [
      "30\n",
      "('Nano', 'CS550')\n"
     ]
    }
   ],
   "source": [
    "class Car:\n",
    "    #class variable\n",
    "    num1=10\n",
    "    num2=20\n",
    "    name=\"Nano\"\n",
    "    model=\"CS550\"\n",
    "    #class k function ko method bolte h\n",
    "    def add(self):\n",
    "        return self.num1+self.num2\n",
    "    def display(self):\n",
    "        return self.name,self.model\n",
    "\n",
    "#obj creation\n",
    "y=Car()\n",
    "print(y.add())\n",
    "print(y.display())\n",
    "#self keword: class k andar hi uske method ya properties ka use krne k liye we use self keyword"
   ]
  },
  {
   "cell_type": "code",
   "execution_count": 4,
   "id": "7026738c",
   "metadata": {},
   "outputs": [
    {
     "name": "stdout",
     "output_type": "stream",
     "text": [
      "('bambuu', 10)\n"
     ]
    }
   ],
   "source": [
    "#init is a constructor used to initialize variable\n",
    "class animal:\n",
    "    def __init__(self,name,age):\n",
    "        #instance variable\n",
    "        self.name=name\n",
    "        self.age=age\n",
    "    def display(self):\n",
    "        return self.name,self.age\n",
    "\n",
    "obj=animal(\"bambuu\",10)\n",
    "print(obj.display())\n",
    "        "
   ]
  },
  {
   "cell_type": "code",
   "execution_count": 8,
   "id": "30b19616",
   "metadata": {},
   "outputs": [
    {
     "name": "stdout",
     "output_type": "stream",
     "text": [
      "car\n",
      "Bike\n"
     ]
    }
   ],
   "source": [
    "#inheritance: class inherits the properties and methods of parent class\n",
    "#single\n",
    "class car:\n",
    "    def display(self):\n",
    "        return \"car\"\n",
    "    \n",
    "class bike(car):\n",
    "    def show(self):\n",
    "        return \"Bike\"\n",
    "\n",
    "obj1=bike()\n",
    "print(obj1.display())\n",
    "print(obj1.show())"
   ]
  },
  {
   "cell_type": "code",
   "execution_count": 19,
   "id": "e5d89325",
   "metadata": {},
   "outputs": [
    {
     "data": {
      "text/plain": [
       "'gargi'"
      ]
     },
     "execution_count": 19,
     "metadata": {},
     "output_type": "execute_result"
    }
   ],
   "source": [
    "class person:\n",
    "    def __init__(self,name):\n",
    "        self.name=name\n",
    "    def show(self):\n",
    "        return self.name\n",
    "class employee(person):\n",
    "    def __init__(self,name,salary):\n",
    "        super().__init__(name)\n",
    "        #parent class k method ya property ko access krna h tohh we use super\n",
    "        self.salary=salary\n",
    "\n",
    "p=employee(\"gargi\",200000)\n",
    "p.show()"
   ]
  },
  {
   "cell_type": "code",
   "execution_count": 45,
   "id": "9e46eb12",
   "metadata": {},
   "outputs": [
    {
     "name": "stdout",
     "output_type": "stream",
     "text": [
      "('gargi', 200000, '22AI009')\n"
     ]
    }
   ],
   "source": [
    "#multiple: single child class multiple parent class\n",
    "class person:\n",
    "    def __init__(self,name):\n",
    "        self.name=name\n",
    "    def show(self):\n",
    "        return self.name\n",
    "class employee(person):\n",
    "    def __init__(self,name,salary):\n",
    "        super().__init__(name)\n",
    "        #parent class k method ya property ko access krna h tohh we use super\n",
    "        self.salary=salary\n",
    "class job:\n",
    "    def __init__(self,id):\n",
    "        self.id=id\n",
    "\n",
    "class employeepersonjob(employee,job):\n",
    "    def __init__(self,name,salary,id):\n",
    "        employee.__init__(self,name,salary)\n",
    "        job.__init__(self,id)\n",
    "    def show(self):\n",
    "        return self.name,self.salary,self.id\n",
    "\n",
    "j=employeepersonjob(\"gargi\",200000,\"22AI009\")\n",
    "print(j.show())"
   ]
  },
  {
   "cell_type": "code",
   "execution_count": 36,
   "id": "ecf5a9be",
   "metadata": {},
   "outputs": [
    {
     "name": "stdout",
     "output_type": "stream",
     "text": [
      "('gargi', 200000, 'AI')\n"
     ]
    }
   ],
   "source": [
    "#multillevel\n",
    "class person:\n",
    "    def __init__(self,name):\n",
    "        self.name=name\n",
    "class job(person):\n",
    "    def __init__(self,name,salary):\n",
    "        super().__init__(name)\n",
    "        self.salary=salary\n",
    "class department(job):\n",
    "    def __init__(self,name,salary,dept):\n",
    "        super().__init__(name,salary)\n",
    "        self.dept=dept\n",
    "    def show(self):\n",
    "        return self.name,self.salary,self.dept\n",
    "\n",
    "obj=department(\"gargi\",200000,\"AI\")\n",
    "print(obj.show())"
   ]
  },
  {
   "cell_type": "code",
   "execution_count": 34,
   "id": "fa972419",
   "metadata": {},
   "outputs": [
    {
     "name": "stdout",
     "output_type": "stream",
     "text": [
      "meow\n"
     ]
    }
   ],
   "source": [
    "#polymorphism: many froms\n",
    "'''the same function or method behaves differently based on the input eg len()'''\n",
    "class cat:\n",
    "    def sound(self):\n",
    "        return \"meow\"\n",
    "class kutta:\n",
    "    def sound(self):\n",
    "        return \"bhow bhow\"\n",
    "obj=cat()\n",
    "print(obj.sound())"
   ]
  },
  {
   "cell_type": "code",
   "execution_count": 50,
   "id": "6d1faa14",
   "metadata": {},
   "outputs": [
    {
     "name": "stdout",
     "output_type": "stream",
     "text": [
      "4.0\n"
     ]
    }
   ],
   "source": [
    "class traingle:\n",
    "    def __init__(self,h,b):\n",
    "        self.h=h\n",
    "        self.b=b\n",
    "    def area(self):\n",
    "        return 0.5*self.h*self.b\n",
    "class square:\n",
    "    def __init__(self,s):\n",
    "        self.s=s\n",
    "    def area(self):\n",
    "        return self.s**2\n",
    "class rectangle:\n",
    "    def __init__(self,h,b):\n",
    "        self.h=h\n",
    "        self.b=b\n",
    "    def area(self):\n",
    "        return self.h*self.b\n",
    "def cal(shape):\n",
    "    return shape.area()\n",
    "t=traingle(2,4)\n",
    "print(cal(t))"
   ]
  },
  {
   "cell_type": "code",
   "execution_count": null,
   "id": "fc97428d",
   "metadata": {},
   "outputs": [
    {
     "data": {
      "text/plain": [
       "'\\nencapsulation:\\nit means hiding the internal details off a class and protecting data from being access or modified dirctly by the outside world\\nwe can do it by using private and protected varriable\\nprivate variable: __name\\ncan not be accessed from outside the class\\npublic variable: _name\\ncan be accessible from outside the class\\n\\n'"
      ]
     },
     "execution_count": 51,
     "metadata": {},
     "output_type": "execute_result"
    }
   ],
   "source": [
    "'''\n",
    "encapsulation:\n",
    "it means hiding the internal details off a class and protecting data from being access or modified dirctly by the outside world\n",
    "we can do it by using private and protected varriable\n",
    "private variable: __name\n",
    "can not be accessed from outside the class\n",
    "protected variable: _name\n",
    "can be accessible from inside the class and subclasses\n",
    "\n",
    "'''"
   ]
  },
  {
   "cell_type": "code",
   "execution_count": 56,
   "id": "a4882624",
   "metadata": {},
   "outputs": [
    {
     "name": "stdout",
     "output_type": "stream",
     "text": [
      "20\n",
      "55\n",
      "30\n"
     ]
    }
   ],
   "source": [
    "class student:\n",
    "    def __init__(self,name,marks):\n",
    "        self.name=name\n",
    "        self.__marks=marks\n",
    "    \n",
    "    def get_marks(self):\n",
    "        return self.__marks\n",
    "    def set_marks(self,marks):\n",
    "        if 0<=marks<=100:\n",
    "            self.__marks=marks\n",
    "        else:\n",
    "            print(\"invalid\")\n",
    "\n",
    "s=student(\"gargi\",20)\n",
    "print(s.get_marks())\n",
    "s.set_marks(55)\n",
    "print(s.get_marks())\n",
    "#name mangling\n",
    "s._student__marks=30\n",
    "print(s.get_marks())"
   ]
  },
  {
   "cell_type": "code",
   "execution_count": null,
   "id": "82d5e930",
   "metadata": {},
   "outputs": [],
   "source": []
  }
 ],
 "metadata": {
  "kernelspec": {
   "display_name": "Python 3",
   "language": "python",
   "name": "python3"
  },
  "language_info": {
   "codemirror_mode": {
    "name": "ipython",
    "version": 3
   },
   "file_extension": ".py",
   "mimetype": "text/x-python",
   "name": "python",
   "nbconvert_exporter": "python",
   "pygments_lexer": "ipython3",
   "version": "3.11.1"
  }
 },
 "nbformat": 4,
 "nbformat_minor": 5
}
