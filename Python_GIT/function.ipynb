{
 "cells": [
  {
   "cell_type": "code",
   "execution_count": 121,
   "id": "0cf5c2a6",
   "metadata": {},
   "outputs": [
    {
     "name": "stdout",
     "output_type": "stream",
     "text": [
      "Hello\n"
     ]
    }
   ],
   "source": [
    "def hello():\n",
    "    print(\"Hello\")\n",
    "\n",
    "hello()"
   ]
  },
  {
   "cell_type": "code",
   "execution_count": 122,
   "id": "eaa2b3aa",
   "metadata": {},
   "outputs": [
    {
     "name": "stdout",
     "output_type": "stream",
     "text": [
      "Hello\n"
     ]
    }
   ],
   "source": [
    "hello()"
   ]
  },
  {
   "cell_type": "code",
   "execution_count": 123,
   "id": "ad659cca",
   "metadata": {},
   "outputs": [],
   "source": [
    "def add(a,b):\n",
    "    print(a+b)"
   ]
  },
  {
   "cell_type": "code",
   "execution_count": 124,
   "id": "aee33a59",
   "metadata": {},
   "outputs": [
    {
     "name": "stdout",
     "output_type": "stream",
     "text": [
      "30\n"
     ]
    }
   ],
   "source": [
    "add(10,20)"
   ]
  },
  {
   "cell_type": "code",
   "execution_count": 125,
   "id": "ee72fa05",
   "metadata": {},
   "outputs": [
    {
     "name": "stdout",
     "output_type": "stream",
     "text": [
      "the youngest child is vansh\n"
     ]
    }
   ],
   "source": [
    "#jab nhi pta kitne arguments pass krne h toh arbitary argument use krte h *args\n",
    "def child(*kids):\n",
    "    print(\"the youngest child is \"+kids[2])\n",
    "\n",
    "kids=(\"jhanvi\",\"vanshika\",\"vansh\")\n",
    "child(\"jhanvi\",\"vanshika\",\"vansh\")"
   ]
  },
  {
   "cell_type": "code",
   "execution_count": 126,
   "id": "12073c1a",
   "metadata": {},
   "outputs": [
    {
     "name": "stdout",
     "output_type": "stream",
     "text": [
      "the youngest child is jhanvi\n"
     ]
    }
   ],
   "source": [
    "#arbitary keyword argumnet **args\n",
    "def child(**kids):\n",
    "    print(\"the youngest child is \"+kids[\"child3\"])\n",
    "\n",
    "child(child3=\"jhanvi\",child2=\"vanshika\",child1=\"vansh\")"
   ]
  },
  {
   "cell_type": "code",
   "execution_count": 127,
   "id": "4fe7e23e",
   "metadata": {},
   "outputs": [
    {
     "name": "stdout",
     "output_type": "stream",
     "text": [
      "my hobby is sleeping\n",
      "my hobby is cricket\n"
     ]
    }
   ],
   "source": [
    "#default parameter value\n",
    "def hobby(name=\"cricket\"):\n",
    "    print(\"my hobby is \"+name)\n",
    "hobby(\"sleeping\")\n",
    "hobby()"
   ]
  },
  {
   "cell_type": "code",
   "execution_count": 128,
   "id": "6cb217b2",
   "metadata": {},
   "outputs": [
    {
     "name": "stdout",
     "output_type": "stream",
     "text": [
      "jhanvi\n",
      "vanshika\n",
      "vansh\n"
     ]
    }
   ],
   "source": [
    "#passing list\n",
    "def lst(name):\n",
    "    for i in name:\n",
    "        print(i)\n",
    "name=(\"jhanvi\",\"vanshika\",\"vansh\")\n",
    "lst(name)"
   ]
  },
  {
   "cell_type": "code",
   "execution_count": 129,
   "id": "b82022c9",
   "metadata": {},
   "outputs": [],
   "source": [
    "def average(*a):\n",
    "    avg=0\n",
    "    j=0\n",
    "    for i in a:\n",
    "        j=j+1\n",
    "        avg=avg+i\n",
    "    avg=avg/j\n",
    "    return avg"
   ]
  },
  {
   "cell_type": "code",
   "execution_count": 130,
   "id": "9472a41b",
   "metadata": {},
   "outputs": [
    {
     "data": {
      "text/plain": [
       "2.0"
      ]
     },
     "execution_count": 130,
     "metadata": {},
     "output_type": "execute_result"
    }
   ],
   "source": [
    "average(1,2,3)"
   ]
  },
  {
   "cell_type": "code",
   "execution_count": 142,
   "id": "bbd027ff",
   "metadata": {},
   "outputs": [
    {
     "data": {
      "text/plain": [
       "'list ka sara code ek single line me likh dena\\n[expression/output for loop condition]\\n'"
      ]
     },
     "execution_count": 142,
     "metadata": {},
     "output_type": "execute_result"
    }
   ],
   "source": [
    "#list comprehension\n",
    "'''list ka sara code ek single line me likh dena\n",
    "[expression/output for loop condition]\n",
    "'''\n"
   ]
  },
  {
   "cell_type": "code",
   "execution_count": 151,
   "id": "ff390d11",
   "metadata": {},
   "outputs": [
    {
     "name": "stdout",
     "output_type": "stream",
     "text": [
      "['RED', 'BLUE', 'GREEN', 'BLACK']\n"
     ]
    }
   ],
   "source": [
    "lst=[\"red\",\"blue\",\"green\",\"black\"]\n",
    "newlst=[i.upper() for i in lst]\n",
    "print(newlst)"
   ]
  },
  {
   "cell_type": "code",
   "execution_count": 158,
   "id": "b9681764",
   "metadata": {},
   "outputs": [
    {
     "name": "stdout",
     "output_type": "stream",
     "text": [
      "[1, 4, 9, 16, 25]\n"
     ]
    }
   ],
   "source": [
    "lst=[1,2,3,4,5]\n",
    "newlst=[i*i for i in lst]\n",
    "print(newlst)"
   ]
  },
  {
   "cell_type": "code",
   "execution_count": 164,
   "id": "2f391f40",
   "metadata": {},
   "outputs": [
    {
     "name": "stdout",
     "output_type": "stream",
     "text": [
      "[4, 16]\n"
     ]
    }
   ],
   "source": [
    "lst=[1,2,3,4,5]\n",
    "newlst=[i*i for i in lst if i%2==0]\n",
    "print(newlst)"
   ]
  },
  {
   "cell_type": "code",
   "execution_count": 169,
   "id": "8a6397f8",
   "metadata": {},
   "outputs": [
    {
     "name": "stdout",
     "output_type": "stream",
     "text": [
      "['r', 'b', 'g', 'b']\n"
     ]
    }
   ],
   "source": [
    "lst=[\"red\",\"blue\",\"green\",\"black\"]\n",
    "newlst=[lst[i][0] for i in range(len(lst))]\n",
    "print(newlst)"
   ]
  },
  {
   "cell_type": "code",
   "execution_count": 173,
   "id": "932b358b",
   "metadata": {},
   "outputs": [
    {
     "name": "stdout",
     "output_type": "stream",
     "text": [
      "[1, 2, 3, 4, 5, 6, 7, 8, 9]\n"
     ]
    }
   ],
   "source": [
    "lst=[[1,2,3],[4,5,6],[7,8,9]]\n",
    "newlst=[lst[i][j] for i in range(len(lst)) for j in range(len(lst[i]))]\n",
    "print(newlst)"
   ]
  },
  {
   "cell_type": "code",
   "execution_count": null,
   "id": "a9c94728",
   "metadata": {},
   "outputs": [
    {
     "name": "stdout",
     "output_type": "stream",
     "text": [
      "15\n"
     ]
    }
   ],
   "source": [
    "#LAMBDA: used to write single line code\n",
    "a=5\n",
    "b=10\n",
    "x=lambda a,b:a+b\n",
    "print(x(a,b))\n"
   ]
  },
  {
   "cell_type": "code",
   "execution_count": 2,
   "id": "ca125a19",
   "metadata": {},
   "outputs": [
    {
     "name": "stdout",
     "output_type": "stream",
     "text": [
      "[('jhanvi', 1), ('vanshika', 2), ('vansh', 3)]\n"
     ]
    }
   ],
   "source": [
    "#zip function used to combine two or more iterables\n",
    "list1 = [\"jhanvi\",\"vanshika\",\"vansh\"]\n",
    "list2 = [1,2,3]\n",
    "result = zip(list1,list2)\n",
    "print(list(result))"
   ]
  },
  {
   "cell_type": "code",
   "execution_count": 3,
   "id": "b3872594",
   "metadata": {},
   "outputs": [
    {
     "name": "stdout",
     "output_type": "stream",
     "text": [
      "[('jhanvi', 1), ('vanshika', 2)]\n"
     ]
    }
   ],
   "source": [
    "#zip function used to combine two or more iterables\n",
    "list1=[\"jhanvi\",\"vanshika\",\"vansh\"]\n",
    "list2=[1,2]\n",
    "result=zip(list1,list2)\n",
    "print(list(result))"
   ]
  },
  {
   "cell_type": "code",
   "execution_count": 4,
   "id": "e04f15c1",
   "metadata": {},
   "outputs": [
    {
     "name": "stdout",
     "output_type": "stream",
     "text": [
      "['jhanvi', 'Vanshika', 'vansh']\n",
      "(1, 2, 3) ('jhanvi', 'Vanshika', 'vansh')\n"
     ]
    }
   ],
   "source": [
    "zipped=[('jhanvi', 1), ('Vanshika', 2), ('vansh', 3)]\n",
    "name,number=zip(*zipped)\n",
    "print(list(name))\n",
    "print(number,name)"
   ]
  },
  {
   "cell_type": "code",
   "execution_count": null,
   "id": "69824c5e",
   "metadata": {},
   "outputs": [
    {
     "name": "stdout",
     "output_type": "stream",
     "text": [
      "[1, 4, 9, 16, 25]\n"
     ]
    }
   ],
   "source": [
    "#map (function,iteration)\n",
    "def sq(num):              #sq() : jo kisi bhi number ka square return karta hai.\n",
    "    return num*num\n",
    "lst=[1,2,3,4,5]\n",
    "result=map(sq,lst)        #map(sq, lst) : list ke har element pe sq() function apply karo.\n",
    "print(list(result))"
   ]
  },
  {
   "cell_type": "code",
   "execution_count": null,
   "id": "3def56ee",
   "metadata": {},
   "outputs": [
    {
     "name": "stdout",
     "output_type": "stream",
     "text": [
      "[2, 4]\n"
     ]
    }
   ],
   "source": [
    "#filter function-- filter(function,iterable): ek built-in function hai jo list ke har element pe ek function lagata hai aur sirf unhi elements\n",
    "lst=[1,2,3,4,5]                               #ko return karta hai jinke liye condition True hoti hai.\n",
    "result=filter(lambda num:num%2==0,lst)\n",
    "print(list(result))"
   ]
  },
  {
   "cell_type": "code",
   "execution_count": null,
   "id": "63a32127",
   "metadata": {},
   "outputs": [
    {
     "name": "stdout",
     "output_type": "stream",
     "text": [
      "15\n"
     ]
    }
   ],
   "source": [
    "#reduce function : Jo 2 values leke unko reduce (combine) karta hai. \n",
    "from functools import reduce                    #functool ek module hai\n",
    "lst=[1,2,3,4,5]\n",
    "result=reduce(lambda num1,num2:num1+num2,lst)   #list ke pehle 2 elements pe + apply karega, fir us result pe next element\n",
    "print(result)"
   ]
  },
  {
   "cell_type": "code",
   "execution_count": null,
   "id": "95ed096b",
   "metadata": {},
   "outputs": [
    {
     "name": "stdout",
     "output_type": "stream",
     "text": [
      "[(0, 'gargi'), (1, 'vidhi'), (2, 'khushish')]\n"
     ]
    }
   ],
   "source": [
    "#enumerate : kisi iterable ke items ke saath unka index bhi deta hai.\n",
    "lst=[\"vanshika\", \"kanak\",\"Gargi\"]\n",
    "result=enumerate(lst)\n",
    "print(list(result))"
   ]
  },
  {
   "cell_type": "code",
   "execution_count": 1,
   "id": "9da68e72",
   "metadata": {},
   "outputs": [
    {
     "name": "stdout",
     "output_type": "stream",
     "text": [
      "[(71, 'vanshika'), (72, 'kanak'), (73, 'Gargi')]\n"
     ]
    }
   ],
   "source": [
    "#enumerate\n",
    "lst=[\"vanshika\", \"kanak\",\"Gargi\"]\n",
    "result=enumerate(lst,start=71)\n",
    "print(list(result))"
   ]
  }
 ],
 "metadata": {
  "kernelspec": {
   "display_name": "Python 3",
   "language": "python",
   "name": "python3"
  },
  "language_info": {
   "codemirror_mode": {
    "name": "ipython",
    "version": 3
   },
   "file_extension": ".py",
   "mimetype": "text/x-python",
   "name": "python",
   "nbconvert_exporter": "python",
   "pygments_lexer": "ipython3",
   "version": "3.13.5"
  }
 },
 "nbformat": 4,
 "nbformat_minor": 5
}
